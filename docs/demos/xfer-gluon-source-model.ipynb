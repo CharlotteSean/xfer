{
 "cells": [
  {
   "cell_type": "markdown",
   "metadata": {},
   "source": [
    "# Using Gluon with Xfer\n",
    "\n",
    "This notebook demonstrates how to use neural networks defined and trained with Gluon as source models for Transfer Learning with Xfer.\n",
    "\n",
    "> TLDR; Gluon models can be used with Xfer provided they use [HybridBlocks](https://gluon.mxnet.io/chapter07_distributed-learning/hybridize.html) so that the symbol can be extracted."
   ]
  },
  {
   "cell_type": "code",
   "execution_count": 1,
   "metadata": {
    "collapsed": true
   },
   "outputs": [],
   "source": [
    "import numpy as np\n",
    "import mxnet as mx\n",
    "from mxnet import nd, autograd, gluon\n",
    "mx.random.seed(1)\n",
    "\n",
    "import time\n",
    "from sklearn.metrics import classification_report\n",
    "from scipy import io as scipyio\n",
    "import urllib.request\n",
    "import zipfile\n",
    "import os\n",
    "import logging\n",
    "\n",
    "import xfer"
   ]
  },
  {
   "cell_type": "markdown",
   "metadata": {},
   "source": [
    "## Train CNN with gluon\n",
    "\n",
    "Using code taken from [The Straight Dope](https://gluon.mxnet.io/chapter04_convolutional-neural-networks/cnn-gluon.html)"
   ]
  },
  {
   "cell_type": "code",
   "execution_count": 2,
   "metadata": {
    "collapsed": true
   },
   "outputs": [],
   "source": [
    "ctx = mx.cpu()"
   ]
  },
  {
   "cell_type": "code",
   "execution_count": 3,
   "metadata": {
    "collapsed": true
   },
   "outputs": [],
   "source": [
    "batch_size = 64\n",
    "num_inputs = 784\n",
    "num_outputs = 10\n",
    "def transform(data, label):\n",
    "    return nd.transpose(data.astype(np.float32), (2,0,1))/255, label.astype(np.float32)\n",
    "train_data = gluon.data.DataLoader(gluon.data.vision.MNIST(train=True, transform=transform),\n",
    "                                      batch_size, shuffle=True)\n",
    "test_data = gluon.data.DataLoader(gluon.data.vision.MNIST(train=False, transform=transform),\n",
    "                                     batch_size, shuffle=False)"
   ]
  },
  {
   "cell_type": "code",
   "execution_count": 4,
   "metadata": {
    "collapsed": true
   },
   "outputs": [],
   "source": [
    "num_fc = 512\n",
    "net = gluon.nn.HybridSequential()\n",
    "with net.name_scope():\n",
    "    net.add(gluon.nn.Conv2D(channels=20, kernel_size=5, activation='relu'))\n",
    "    net.add(gluon.nn.MaxPool2D(pool_size=2, strides=2))\n",
    "    net.add(gluon.nn.Conv2D(channels=50, kernel_size=5, activation='relu'))\n",
    "    net.add(gluon.nn.MaxPool2D(pool_size=2, strides=2))\n",
    "    # The Flatten layer collapses all axis, except the first one, into one axis.\n",
    "    net.add(gluon.nn.Flatten())\n",
    "    net.add(gluon.nn.Dense(num_fc, activation=\"relu\"))\n",
    "    net.add(gluon.nn.Dense(num_outputs))"
   ]
  },
  {
   "cell_type": "code",
   "execution_count": 5,
   "metadata": {
    "collapsed": true
   },
   "outputs": [],
   "source": [
    "net.collect_params().initialize(mx.init.Xavier(magnitude=2.24), ctx=ctx)"
   ]
  },
  {
   "cell_type": "code",
   "execution_count": 6,
   "metadata": {
    "collapsed": true
   },
   "outputs": [],
   "source": [
    "softmax_cross_entropy = gluon.loss.SoftmaxCrossEntropyLoss()"
   ]
  },
  {
   "cell_type": "code",
   "execution_count": 7,
   "metadata": {
    "collapsed": true
   },
   "outputs": [],
   "source": [
    "trainer = gluon.Trainer(net.collect_params(), 'sgd', {'learning_rate': .1})"
   ]
  },
  {
   "cell_type": "code",
   "execution_count": 8,
   "metadata": {
    "collapsed": true
   },
   "outputs": [],
   "source": [
    "net.hybridize()"
   ]
  },
  {
   "cell_type": "code",
   "execution_count": 9,
   "metadata": {
    "collapsed": true
   },
   "outputs": [],
   "source": [
    "def evaluate_accuracy(data_iterator, net):\n",
    "    acc = mx.metric.Accuracy()\n",
    "    for i, (data, label) in enumerate(data_iterator):\n",
    "        data = data.as_in_context(ctx)\n",
    "        label = label.as_in_context(ctx)\n",
    "        output = net(data)\n",
    "        predictions = nd.argmax(output, axis=1)\n",
    "        acc.update(preds=predictions, labels=label)\n",
    "    return acc.get()[1]"
   ]
  },
  {
   "cell_type": "code",
   "execution_count": 10,
   "metadata": {},
   "outputs": [
    {
     "name": "stdout",
     "output_type": "stream",
     "text": [
      "Epoch 0.\n",
      "Loss: 0.07521554497942881, Train_acc 0.9786333333333334, Test_acc 0.9793, Epoch_time 60.99967002868652, Eval_time 30.03406596183777\n"
     ]
    }
   ],
   "source": [
    "epochs = 1\n",
    "smoothing_constant = .01\n",
    "\n",
    "for e in range(epochs):\n",
    "    start_time_train = time.time()\n",
    "    for i, (data, label) in enumerate(train_data):\n",
    "        data = data.as_in_context(ctx)\n",
    "        label = label.as_in_context(ctx)\n",
    "        with autograd.record():\n",
    "            output = net(data)\n",
    "            loss = softmax_cross_entropy(output, label)\n",
    "        loss.backward()\n",
    "        trainer.step(data.shape[0])\n",
    "\n",
    "        ##########################\n",
    "        #  Keep a moving average of the losses\n",
    "        ##########################\n",
    "        curr_loss = nd.mean(loss).asscalar()\n",
    "        moving_loss = (curr_loss if ((i == 0) and (e == 0))\n",
    "                       else (1 - smoothing_constant) * moving_loss + smoothing_constant * curr_loss)\n",
    "    end_time_train = time.time()\n",
    "\n",
    "    start_time_eval = time.time()\n",
    "    test_accuracy = evaluate_accuracy(test_data, net)\n",
    "    train_accuracy = evaluate_accuracy(train_data, net)\n",
    "    end_time_eval = time.time()\n",
    "    \n",
    "    epoch_time = end_time_train - start_time_train\n",
    "    eval_time = end_time_eval - start_time_eval\n",
    "    print(\"Epoch {}.\\nLoss: {}, Train_acc {}, Test_acc {}, Epoch_time {}, Eval_time {}\".format(e, moving_loss, train_accuracy, test_accuracy, epoch_time, eval_time))\n",
    "    "
   ]
  },
  {
   "cell_type": "markdown",
   "metadata": {},
   "source": [
    "## Load emnist letters dataset\n",
    "\n",
    "Dataset info [here](https://www.nist.gov/itl/iad/image-group/emnist-dataset)"
   ]
  },
  {
   "cell_type": "code",
   "execution_count": 11,
   "metadata": {
    "collapsed": true
   },
   "outputs": [],
   "source": [
    "def get_emnist_dataset(dir_name='emnist-matlab'):\n",
    "    if dir_name in os.listdir():\n",
    "        logging.info('Dataset already exists.')\n",
    "        return\n",
    "    url = 'http://www.itl.nist.gov/iaui/vip/cs_links/EMNIST/matlab.zip'\n",
    "    filename = 'emnist-matlab.zip'\n",
    "    logging.info('Downloading dataset...')\n",
    "    urllib.request.urlretrieve(url, filename)\n",
    "    logging.info('Extracting dataset...')\n",
    "    with zipfile.ZipFile(filename, 'r') as zip_file:\n",
    "        zip_file.extractall(dir_name)\n",
    "    logging.info('Deleting temp files...')\n",
    "    os.remove('filename')\n",
    "    logging.info('Done')"
   ]
  },
  {
   "cell_type": "code",
   "execution_count": 12,
   "metadata": {
    "collapsed": true
   },
   "outputs": [],
   "source": [
    "DIRNAME = 'emnist-matlab'"
   ]
  },
  {
   "cell_type": "code",
   "execution_count": 13,
   "metadata": {
    "collapsed": true
   },
   "outputs": [],
   "source": [
    "get_emnist_dataset(DIRNAME)"
   ]
  },
  {
   "cell_type": "code",
   "execution_count": 14,
   "metadata": {
    "collapsed": true
   },
   "outputs": [],
   "source": [
    "emnist = scipyio.loadmat(os.path.join(DIRNAME,'matlab/emnist-letters.mat'))"
   ]
  },
  {
   "cell_type": "code",
   "execution_count": 15,
   "metadata": {
    "collapsed": true
   },
   "outputs": [],
   "source": [
    "train_data = emnist['dataset'][0][0][0][0][0][0]\n",
    "train_label = emnist['dataset'][0][0][0][0][0][1]\n",
    "\n",
    "test_data = emnist['dataset'][0][0][1][0][0][0]\n",
    "test_label = emnist['dataset'][0][0][1][0][0][1]"
   ]
  },
  {
   "cell_type": "code",
   "execution_count": 16,
   "metadata": {},
   "outputs": [
    {
     "name": "stdout",
     "output_type": "stream",
     "text": [
      "(124800, 784)\n",
      "(124800, 1)\n",
      "(20800, 784)\n",
      "(20800, 1)\n"
     ]
    }
   ],
   "source": [
    "print(train_data.shape)\n",
    "print(train_label.shape)\n",
    "print(test_data.shape)\n",
    "print(test_label.shape)"
   ]
  },
  {
   "cell_type": "code",
   "execution_count": 17,
   "metadata": {
    "collapsed": true
   },
   "outputs": [],
   "source": [
    "# reshape using matlab order\n",
    "train_data = train_data.reshape(train_data.shape[0], 1, 28, 28, order=\"A\")\n",
    "test_data = test_data.reshape(test_data.shape[0], 1, 28, 28, order=\"A\")"
   ]
  },
  {
   "cell_type": "code",
   "execution_count": 18,
   "metadata": {},
   "outputs": [
    {
     "name": "stdout",
     "output_type": "stream",
     "text": [
      "(124800, 1, 28, 28)\n",
      "(124800, 1)\n",
      "(20800, 1, 28, 28)\n",
      "(20800, 1)\n"
     ]
    }
   ],
   "source": [
    "print(train_data.shape)\n",
    "print(train_label.shape)\n",
    "print(test_data.shape)\n",
    "print(test_label.shape)"
   ]
  },
  {
   "cell_type": "code",
   "execution_count": 19,
   "metadata": {
    "collapsed": true
   },
   "outputs": [],
   "source": [
    "# reshape labels\n",
    "train_label = np.array([label[0] for label in train_label])\n",
    "test_label = np.array([label[0] for label in test_label])"
   ]
  },
  {
   "cell_type": "code",
   "execution_count": 20,
   "metadata": {},
   "outputs": [
    {
     "name": "stdout",
     "output_type": "stream",
     "text": [
      "(124800, 1, 28, 28)\n",
      "(124800,)\n",
      "(20800, 1, 28, 28)\n",
      "(20800,)\n"
     ]
    }
   ],
   "source": [
    "print(train_data.shape)\n",
    "print(train_label.shape)\n",
    "print(test_data.shape)\n",
    "print(test_label.shape)"
   ]
  },
  {
   "cell_type": "code",
   "execution_count": 21,
   "metadata": {
    "collapsed": true
   },
   "outputs": [],
   "source": [
    "import matplotlib.pyplot as plt"
   ]
  },
  {
   "cell_type": "code",
   "execution_count": 22,
   "metadata": {},
   "outputs": [
    {
     "data": {
      "image/png": "[encoded data removed]",
      "text/plain": [
       "<Figure size 1080x432 with 10 Axes>"
      ]
     },
     "metadata": {
      "needs_background": "light"
     },
     "output_type": "display_data"
    }
   ],
   "source": [
    "fig, ax = plt.subplots(1, 10, figsize=(15,6))\n",
    "for n in range(10):\n",
    "    ax[n].imshow(train_data[n][0], cmap='gray')"
   ]
  },
  {
   "cell_type": "code",
   "execution_count": 23,
   "metadata": {
    "collapsed": true
   },
   "outputs": [],
   "source": [
    "train_iter = mx.io.NDArrayIter(train_data, train_label, batch_size, shuffle=True)\n",
    "val_iter = mx.io.NDArrayIter(test_data, test_label, batch_size)"
   ]
  },
  {
   "cell_type": "markdown",
   "metadata": {},
   "source": [
    "## Convert Gluon model `net` to Module\n",
    "\n",
    "*Adapted from snippet found [here](https://github.com/apache/incubator-mxnet/issues/9374)*\n",
    "\n",
    "From the Gluon model, the symbol and parameters are extracted and used to define an `Module` object."
   ]
  },
  {
   "cell_type": "code",
   "execution_count": 24,
   "metadata": {
    "collapsed": true
   },
   "outputs": [],
   "source": [
    "def block2symbol(block):\n",
    "    data = mx.sym.Variable('data')\n",
    "    sym = block(data)\n",
    "    args = {}\n",
    "    auxs = {}\n",
    "    for k, v in block.collect_params().items():\n",
    "        args[k] = mx.nd.array(v.data().asnumpy())\n",
    "        auxs[k] = mx.nd.array(v.data().asnumpy())\n",
    "    return sym, args, auxs"
   ]
  },
  {
   "cell_type": "code",
   "execution_count": 25,
   "metadata": {
    "collapsed": true
   },
   "outputs": [],
   "source": [
    "def symbol2mod(sym, args, auxs, data_iter):\n",
    "    mx_sym = mx.sym.SoftmaxOutput(data=sym, name='softmax')\n",
    "    model = mx.mod.Module(symbol=mx_sym, context=mx.cpu(), \n",
    "                          label_names=['softmax_label'])\n",
    "    model.bind( data_shapes = data_iter.provide_data, \n",
    "                label_shapes = data_iter.provide_label )\n",
    "    model.set_params(args, auxs)  \n",
    "    return model"
   ]
  },
  {
   "cell_type": "code",
   "execution_count": 26,
   "metadata": {
    "collapsed": true
   },
   "outputs": [],
   "source": [
    "sym_params = block2symbol(net)"
   ]
  },
  {
   "cell_type": "code",
   "execution_count": 27,
   "metadata": {
    "collapsed": true
   },
   "outputs": [],
   "source": [
    "net_mod = symbol2mod(*sym_params, train_iter)"
   ]
  },
  {
   "cell_type": "markdown",
   "metadata": {},
   "source": [
    "### Alternative Method\n",
    "\n",
    "Serialise Gluon model to file using `.export()`.\n",
    "\n",
    "Load the serialised model as an MXNet Module with `Module.load()` so that xfer can be used."
   ]
  },
  {
   "cell_type": "code",
   "execution_count": 28,
   "metadata": {
    "collapsed": true
   },
   "outputs": [],
   "source": [
    "# model_name = 'gluon-model'\n",
    "# net.export(model_name)\n",
    "\n",
    "# mod = mx.mod.Module.load(model_name, 0, label_names=[])\n",
    "# os.remove(model_name+'-symbol.json')\n",
    "# os.remove(model_name+'-0000.params')"
   ]
  },
  {
   "cell_type": "markdown",
   "metadata": {},
   "source": [
    "### Inspect Module "
   ]
  },
  {
   "cell_type": "code",
   "execution_count": 29,
   "metadata": {
    "collapsed": true
   },
   "outputs": [],
   "source": [
    "mh = xfer.model_handler.ModelHandler(net_mod)"
   ]
  },
  {
   "cell_type": "code",
   "execution_count": 30,
   "metadata": {},
   "outputs": [
    {
     "data": {
      "text/plain": [
       "['hybridsequential0_conv0_fwd',\n",
       " 'hybridsequential0_conv0_relu_fwd',\n",
       " 'hybridsequential0_pool0_fwd',\n",
       " 'hybridsequential0_conv1_fwd',\n",
       " 'hybridsequential0_conv1_relu_fwd',\n",
       " 'hybridsequential0_pool1_fwd',\n",
       " 'hybridsequential0_flatten0_reshape0',\n",
       " 'hybridsequential0_dense0_fwd',\n",
       " 'hybridsequential0_dense0_relu_fwd',\n",
       " 'hybridsequential0_dense1_fwd',\n",
       " 'softmax']"
      ]
     },
     "execution_count": 30,
     "metadata": {},
     "output_type": "execute_result"
    }
   ],
   "source": [
    "mh.layer_names"
   ]
  },
  {
   "cell_type": "markdown",
   "metadata": {},
   "source": [
    "## Neural Network Repurposer"
   ]
  },
  {
   "cell_type": "code",
   "execution_count": 31,
   "metadata": {
    "collapsed": true
   },
   "outputs": [],
   "source": [
    "repFT = xfer.NeuralNetworkFineTuneRepurposer(source_model=net_mod,\n",
    "                                             transfer_layer_name='hybridsequential0_dense0_relu_fwd',\n",
    "                                             target_class_count=26, num_epochs=2)"
   ]
  },
  {
   "cell_type": "code",
   "execution_count": 32,
   "metadata": {},
   "outputs": [
    {
     "name": "stderr",
     "output_type": "stream",
     "text": [
      "WARNING:root:Already bound, ignoring bind()\n",
      "/anaconda/envs/xfer-env/lib/python3.6/site-packages/mxnet/module/base_module.py:488: UserWarning: Parameters already initialized and force_init=False. init_params call ignored.\n",
      "  allow_missing=allow_missing, force_init=force_init)\n"
     ]
    }
   ],
   "source": [
    "repFT.repurpose(train_iter)"
   ]
  },
  {
   "cell_type": "code",
   "execution_count": 33,
   "metadata": {
    "collapsed": true
   },
   "outputs": [],
   "source": [
    "predictionsFT = repFT.predict_label(val_iter)"
   ]
  },
  {
   "cell_type": "code",
   "execution_count": 34,
   "metadata": {},
   "outputs": [
    {
     "name": "stdout",
     "output_type": "stream",
     "text": [
      "             precision    recall  f1-score   support\n",
      "\n",
      "          1      0.248     0.045     0.076       800\n",
      "          2      0.506     0.406     0.451       800\n",
      "          3      0.444     0.403     0.422       800\n",
      "          4      0.928     0.242     0.385       800\n",
      "          5      0.149     0.956     0.258       800\n",
      "          6      0.667     0.646     0.657       800\n",
      "          7      0.327     0.120     0.176       800\n",
      "          8      0.339     0.485     0.399       800\n",
      "          9      0.000     0.000     0.000       800\n",
      "         10      0.434     0.849     0.574       800\n",
      "         11      0.666     0.500     0.571       800\n",
      "         12      0.451     0.635     0.528       800\n",
      "         13      0.769     0.839     0.803       800\n",
      "         14      0.637     0.541     0.585       800\n",
      "         15      0.750     0.004     0.007       800\n",
      "         16      0.782     0.520     0.625       800\n",
      "         17      0.857     0.015     0.029       800\n",
      "         18      0.819     0.221     0.348       800\n",
      "         19      0.542     0.774     0.637       800\n",
      "         20      0.802     0.182     0.297       800\n",
      "         21      0.588     0.841     0.692       800\n",
      "         22      0.798     0.721     0.758       800\n",
      "         23      0.709     0.860     0.777       800\n",
      "         24      0.860     0.560     0.678       800\n",
      "         25      0.467     0.838     0.599       800\n",
      "         26      0.000     0.000     0.000       800\n",
      "\n",
      "avg / total      0.559     0.469     0.436     20800\n",
      "\n"
     ]
    },
    {
     "name": "stderr",
     "output_type": "stream",
     "text": [
      "/anaconda/envs/xfer-env/lib/python3.6/site-packages/sklearn/metrics/classification.py:1135: UndefinedMetricWarning: Precision and F-score are ill-defined and being set to 0.0 in labels with no predicted samples.\n",
      "  'precision', 'predicted', average, warn_for)\n"
     ]
    }
   ],
   "source": [
    "print(classification_report(test_label, predictionsFT,\n",
    "      digits=3))"
   ]
  },
  {
   "cell_type": "markdown",
   "metadata": {},
   "source": [
    "In this case, finetuning doesn't produce strong results.\n",
    "\n",
    "## Meta-model Repurposer"
   ]
  },
  {
   "cell_type": "code",
   "execution_count": 35,
   "metadata": {
    "collapsed": true
   },
   "outputs": [],
   "source": [
    "repLR = xfer.LrRepurposer(source_model=net_mod, feature_layer_names=['hybridsequential0_dense0_fwd'])"
   ]
  },
  {
   "cell_type": "code",
   "execution_count": 36,
   "metadata": {},
   "outputs": [
    {
     "name": "stderr",
     "output_type": "stream",
     "text": [
      "/anaconda/envs/xfer-env/lib/python3.6/site-packages/sklearn/linear_model/sag.py:326: ConvergenceWarning: The max_iter was reached which means the coef_ did not converge\n",
      "  \"the coef_ did not converge\", ConvergenceWarning)\n"
     ]
    }
   ],
   "source": [
    "repLR.repurpose(train_iter)"
   ]
  },
  {
   "cell_type": "code",
   "execution_count": 37,
   "metadata": {
    "collapsed": true
   },
   "outputs": [],
   "source": [
    "predictionsLR = repLR.predict_label(val_iter)"
   ]
  },
  {
   "cell_type": "code",
   "execution_count": 38,
   "metadata": {},
   "outputs": [
    {
     "name": "stdout",
     "output_type": "stream",
     "text": [
      "             precision    recall  f1-score   support\n",
      "\n",
      "          1      0.880     0.895     0.887       800\n",
      "          2      0.932     0.932     0.932       800\n",
      "          3      0.954     0.949     0.951       800\n",
      "          4      0.930     0.911     0.920       800\n",
      "          5      0.940     0.948     0.944       800\n",
      "          6      0.953     0.939     0.946       800\n",
      "          7      0.811     0.761     0.785       800\n",
      "          8      0.903     0.922     0.913       800\n",
      "          9      0.727     0.736     0.732       800\n",
      "         10      0.923     0.919     0.921       800\n",
      "         11      0.948     0.950     0.949       800\n",
      "         12      0.734     0.760     0.747       800\n",
      "         13      0.976     0.975     0.976       800\n",
      "         14      0.928     0.922     0.925       800\n",
      "         15      0.925     0.963     0.944       800\n",
      "         16      0.946     0.973     0.959       800\n",
      "         17      0.808     0.789     0.798       800\n",
      "         18      0.939     0.905     0.922       800\n",
      "         19      0.961     0.966     0.964       800\n",
      "         20      0.935     0.949     0.942       800\n",
      "         21      0.922     0.921     0.922       800\n",
      "         22      0.917     0.920     0.918       800\n",
      "         23      0.974     0.954     0.964       800\n",
      "         24      0.947     0.943     0.945       800\n",
      "         25      0.918     0.934     0.926       800\n",
      "         26      0.976     0.973     0.974       800\n",
      "\n",
      "avg / total      0.912     0.912     0.912     20800\n",
      "\n"
     ]
    }
   ],
   "source": [
    "print(classification_report(test_label, predictionsLR,\n",
    "      digits=3))"
   ]
  },
  {
   "cell_type": "markdown",
   "metadata": {},
   "source": [
    "LR repurposer achieves much better performance."
   ]
  },
  {
   "cell_type": "code",
   "execution_count": null,
   "metadata": {
    "collapsed": true
   },
   "outputs": [],
   "source": []
  }
 ],
 "metadata": {
  "kernelspec": {
   "display_name": "Python [default]",
   "language": "python",
   "name": "python3"
  },
  "language_info": {
   "codemirror_mode": {
    "name": "ipython",
    "version": 3
   },
   "file_extension": ".py",
   "mimetype": "text/x-python",
   "name": "python",
   "nbconvert_exporter": "python",
   "pygments_lexer": "ipython3",
   "version": "3.6.1"
  }
 },
 "nbformat": 4,
 "nbformat_minor": 2
}
